{
  "nbformat": 4,
  "nbformat_minor": 0,
  "metadata": {
    "colab": {
      "name": "3_Quora_TFIDF.ipynb",
      "provenance": [],
      "collapsed_sections": []
    },
    "kernelspec": {
      "name": "python3",
      "display_name": "Python 3"
    },
    "language_info": {
      "name": "python"
    }
  },
  "cells": [
    {
      "cell_type": "code",
      "source": [
        "import pandas as pd\n",
        "import matplotlib.pyplot as plt\n",
        "import re\n",
        "import time\n",
        "import warnings\n",
        "import numpy as np\n",
        "from nltk.corpus import stopwords\n",
        "from sklearn.preprocessing import normalize\n",
        "from sklearn.feature_extraction.text import CountVectorizer\n",
        "from sklearn.feature_extraction.text import TfidfVectorizer\n",
        "warnings.filterwarnings(\"ignore\")\n",
        "import sys\n",
        "import os \n",
        "import pandas as pd\n",
        "import numpy as np\n",
        "from tqdm import tqdm\n",
        "\n",
        "# exctract word2vec vectors\n",
        "# https://github.com/explosion/spaCy/issues/1721\n",
        "# http://landinghub.visualstudio.com/visual-cpp-build-tools\n",
        "import spacy"
      ],
      "metadata": {
        "id": "1kSnDJsAMVRb"
      },
      "execution_count": 3,
      "outputs": []
    },
    {
      "cell_type": "code",
      "execution_count": 1,
      "metadata": {
        "colab": {
          "base_uri": "https://localhost:8080/"
        },
        "id": "klpgEr16Lvgx",
        "outputId": "308d52c3-53d8-42e1-d7ac-15e74e108d97"
      },
      "outputs": [
        {
          "output_type": "stream",
          "name": "stdout",
          "text": [
            "Mounted at /gdrive\n",
            "/gdrive\n"
          ]
        }
      ],
      "source": [
        "from google.colab import drive\n",
        "drive.mount('/gdrive')\n",
        "%cd /gdrive"
      ]
    },
    {
      "cell_type": "code",
      "source": [
        "df=pd.read_csv(r'/gdrive/MyDrive/Colab Notebooks/Datasets/Quora_train.csv',encoding='latin-1')"
      ],
      "metadata": {
        "id": "hSjWD6heMOZR"
      },
      "execution_count": 14,
      "outputs": []
    },
    {
      "cell_type": "code",
      "source": [
        "df=df.iloc[:5000]"
      ],
      "metadata": {
        "id": "ob0SQ0_RM0Ob"
      },
      "execution_count": 16,
      "outputs": []
    },
    {
      "cell_type": "code",
      "source": [
        "df.head()"
      ],
      "metadata": {
        "colab": {
          "base_uri": "https://localhost:8080/",
          "height": 292
        },
        "id": "Rn-z9p9iM4I2",
        "outputId": "be188ad9-0c8e-4f1c-ed24-ae192bddc51b"
      },
      "execution_count": 17,
      "outputs": [
        {
          "output_type": "execute_result",
          "data": {
            "text/html": [
              "<div>\n",
              "<style scoped>\n",
              "    .dataframe tbody tr th:only-of-type {\n",
              "        vertical-align: middle;\n",
              "    }\n",
              "\n",
              "    .dataframe tbody tr th {\n",
              "        vertical-align: top;\n",
              "    }\n",
              "\n",
              "    .dataframe thead th {\n",
              "        text-align: right;\n",
              "    }\n",
              "</style>\n",
              "<table border=\"1\" class=\"dataframe\">\n",
              "  <thead>\n",
              "    <tr style=\"text-align: right;\">\n",
              "      <th></th>\n",
              "      <th>id</th>\n",
              "      <th>qid1</th>\n",
              "      <th>qid2</th>\n",
              "      <th>question1</th>\n",
              "      <th>question2</th>\n",
              "      <th>is_duplicate</th>\n",
              "    </tr>\n",
              "  </thead>\n",
              "  <tbody>\n",
              "    <tr>\n",
              "      <th>0</th>\n",
              "      <td>0</td>\n",
              "      <td>1</td>\n",
              "      <td>2</td>\n",
              "      <td>What is the step by step guide to invest in sh...</td>\n",
              "      <td>What is the step by step guide to invest in sh...</td>\n",
              "      <td>0</td>\n",
              "    </tr>\n",
              "    <tr>\n",
              "      <th>1</th>\n",
              "      <td>1</td>\n",
              "      <td>3</td>\n",
              "      <td>4</td>\n",
              "      <td>What is the story of Kohinoor (Koh-i-Noor) Dia...</td>\n",
              "      <td>What would happen if the Indian government sto...</td>\n",
              "      <td>0</td>\n",
              "    </tr>\n",
              "    <tr>\n",
              "      <th>2</th>\n",
              "      <td>2</td>\n",
              "      <td>5</td>\n",
              "      <td>6</td>\n",
              "      <td>How can I increase the speed of my internet co...</td>\n",
              "      <td>How can Internet speed be increased by hacking...</td>\n",
              "      <td>0</td>\n",
              "    </tr>\n",
              "    <tr>\n",
              "      <th>3</th>\n",
              "      <td>3</td>\n",
              "      <td>7</td>\n",
              "      <td>8</td>\n",
              "      <td>Why am I mentally very lonely? How can I solve...</td>\n",
              "      <td>Find the remainder when [math]23^{24}[/math] i...</td>\n",
              "      <td>0</td>\n",
              "    </tr>\n",
              "    <tr>\n",
              "      <th>4</th>\n",
              "      <td>4</td>\n",
              "      <td>9</td>\n",
              "      <td>10</td>\n",
              "      <td>Which one dissolve in water quikly sugar, salt...</td>\n",
              "      <td>Which fish would survive in salt water?</td>\n",
              "      <td>0</td>\n",
              "    </tr>\n",
              "  </tbody>\n",
              "</table>\n",
              "</div>"
            ],
            "text/plain": [
              "   id  qid1  ...                                          question2 is_duplicate\n",
              "0   0     1  ...  What is the step by step guide to invest in sh...            0\n",
              "1   1     3  ...  What would happen if the Indian government sto...            0\n",
              "2   2     5  ...  How can Internet speed be increased by hacking...            0\n",
              "3   3     7  ...  Find the remainder when [math]23^{24}[/math] i...            0\n",
              "4   4     9  ...            Which fish would survive in salt water?            0\n",
              "\n",
              "[5 rows x 6 columns]"
            ]
          },
          "metadata": {},
          "execution_count": 17
        }
      ]
    },
    {
      "cell_type": "code",
      "source": [
        "df.question1[0]"
      ],
      "metadata": {
        "colab": {
          "base_uri": "https://localhost:8080/",
          "height": 36
        },
        "id": "hD60UhTYNKzu",
        "outputId": "35529d45-8571-45f9-ee26-0ee46c21a208"
      },
      "execution_count": 18,
      "outputs": [
        {
          "output_type": "execute_result",
          "data": {
            "application/vnd.google.colaboratory.intrinsic+json": {
              "type": "string"
            },
            "text/plain": [
              "'What is the step by step guide to invest in share market in india?'"
            ]
          },
          "metadata": {},
          "execution_count": 18
        }
      ]
    },
    {
      "cell_type": "code",
      "source": [
        "df['question1'] = df['question1'].apply(lambda x: str(x))\n",
        "df['question2'] = df['question2'].apply(lambda x: str(x))"
      ],
      "metadata": {
        "id": "NpJfdIwgM63-"
      },
      "execution_count": 19,
      "outputs": []
    },
    {
      "cell_type": "markdown",
      "source": [
        "### TF-IDF Vectorization"
      ],
      "metadata": {
        "id": "Z44_x42kNUd_"
      }
    },
    {
      "cell_type": "code",
      "source": [
        "from sklearn.feature_extraction.text import TfidfVectorizer\n",
        "from sklearn.feature_extraction.text import CountVectorizer"
      ],
      "metadata": {
        "id": "AdAyvAITNTqJ"
      },
      "execution_count": 52,
      "outputs": []
    },
    {
      "cell_type": "code",
      "source": [
        "#here applying making question bank of all q1 and q2 for calculating tfidf\n",
        "\n",
        "questions = df['question1'].to_list() + df['question2'].to_list()\n",
        "questions[:5]"
      ],
      "metadata": {
        "colab": {
          "base_uri": "https://localhost:8080/"
        },
        "id": "g9-WC4EUNbwZ",
        "outputId": "05ff4104-ec56-4e70-b5df-d19fe9201457"
      },
      "execution_count": 53,
      "outputs": [
        {
          "output_type": "execute_result",
          "data": {
            "text/plain": [
              "['What is the step by step guide to invest in share market in india?',\n",
              " 'What is the story of Kohinoor (Koh-i-Noor) Diamond?',\n",
              " 'How can I increase the speed of my internet connection while using a VPN?',\n",
              " 'Why am I mentally very lonely? How can I solve it?',\n",
              " 'Which one dissolve in water quikly sugar, salt, methane and carbon di oxide?']"
            ]
          },
          "metadata": {},
          "execution_count": 53
        }
      ]
    },
    {
      "cell_type": "code",
      "source": [
        "questions_splitted=[]\n",
        "\n",
        "for sent in questions:\n",
        "  questions_splitted.append(sent.split())"
      ],
      "metadata": {
        "id": "etXqXkFsPmxB"
      },
      "execution_count": 54,
      "outputs": []
    },
    {
      "cell_type": "code",
      "source": [
        "#training tfidf\n",
        "tfidf = TfidfVectorizer(lowercase=False,)\n",
        "tfidf.fit(questions)\n",
        "\n",
        "#creating dictionary of tfidf_features and their idf values\n",
        "word2tfidf = dict(zip(tfidf.get_feature_names(), tfidf.idf_))"
      ],
      "metadata": {
        "id": "GgtfKWJuOCaQ"
      },
      "execution_count": 75,
      "outputs": []
    },
    {
      "cell_type": "code",
      "source": [
        "len(word2tfidf)"
      ],
      "metadata": {
        "colab": {
          "base_uri": "https://localhost:8080/"
        },
        "id": "YeWIcgPJVxQM",
        "outputId": "d0a8cb1d-0137-40f2-de7d-891ce533ec8b"
      },
      "execution_count": 76,
      "outputs": [
        {
          "output_type": "execute_result",
          "data": {
            "text/plain": [
              "11794"
            ]
          },
          "metadata": {},
          "execution_count": 76
        }
      ]
    },
    {
      "cell_type": "code",
      "source": [
        "nlp=spacy.load('en_core_web_sm')"
      ],
      "metadata": {
        "id": "fOKMZoYqR4vp"
      },
      "execution_count": 60,
      "outputs": []
    },
    {
      "cell_type": "code",
      "source": [
        "doc1=nlp(df['question1'][0])"
      ],
      "metadata": {
        "id": "6w4JPHRrT3Ou"
      },
      "execution_count": 62,
      "outputs": []
    },
    {
      "cell_type": "code",
      "source": [
        "mean_vec1 = np.zeros([len(doc1), len(doc1[0].vector)])\n",
        "mean_vec1.shape"
      ],
      "metadata": {
        "colab": {
          "base_uri": "https://localhost:8080/"
        },
        "id": "LrJwgDv-VJpL",
        "outputId": "58e0e4e6-38a0-4354-956e-bae595936dff"
      },
      "execution_count": 74,
      "outputs": [
        {
          "output_type": "execute_result",
          "data": {
            "text/plain": [
              "(15, 96)"
            ]
          },
          "metadata": {},
          "execution_count": 74
        }
      ]
    },
    {
      "cell_type": "code",
      "source": [
        "# en_vectors_web_lg, which includes over 1 million unique vectors.\n",
        "nlp = spacy.load('en_core_web_sm')\n",
        "\n",
        "vecs1 = []\n",
        "# https://github.com/noamraph/tqdm\n",
        "# tqdm is used to print the progress bar\n",
        "for qu1 in tqdm(list(df['question1'])):\n",
        "    doc1 = nlp(qu1) \n",
        "    # 384 is the number of dimensions of vectors \n",
        "    mean_vec1 = np.zeros([len(doc1), len(doc1[0].vector)])\n",
        "    for word1 in doc1:\n",
        "        # word2vec\n",
        "        vec1 = word1.vector\n",
        "        # fetch df score\n",
        "        try:\n",
        "            idf = word2tfidf[str(word1)]\n",
        "        except:\n",
        "            idf = 0\n",
        "        # compute final vec\n",
        "        mean_vec1 += vec1 * idf\n",
        "    mean_vec1 = mean_vec1.mean(axis=0)\n",
        "    vecs1.append(mean_vec1)\n",
        "df['q1_feats_m'] = list(vecs1)\n"
      ],
      "metadata": {
        "colab": {
          "base_uri": "https://localhost:8080/"
        },
        "id": "efjh-uBuV6SG",
        "outputId": "a28e2899-b100-4dab-c70d-e9aa53436c5d"
      },
      "execution_count": 82,
      "outputs": [
        {
          "output_type": "stream",
          "name": "stderr",
          "text": [
            "100%|██████████| 5000/5000 [00:48<00:00, 102.25it/s]\n"
          ]
        }
      ]
    },
    {
      "cell_type": "code",
      "source": [
        "len(vecs1)"
      ],
      "metadata": {
        "colab": {
          "base_uri": "https://localhost:8080/"
        },
        "id": "wzvKS4MTV9zC",
        "outputId": "95321364-1ed5-455a-acd5-ddb1ac1195f8"
      },
      "execution_count": 86,
      "outputs": [
        {
          "output_type": "execute_result",
          "data": {
            "text/plain": [
              "5000"
            ]
          },
          "metadata": {},
          "execution_count": 86
        }
      ]
    },
    {
      "cell_type": "code",
      "source": [
        "from sklearn.preprocessing import MinMaxScaler"
      ],
      "metadata": {
        "id": "EpbjgCdiZK9G"
      },
      "execution_count": 92,
      "outputs": []
    },
    {
      "cell_type": "code",
      "source": [
        "df=pd.read_csv(r'/gdrive/MyDrive/Colab Notebooks/Datasets/nlp_features_train.csv',encoding='latin-1')"
      ],
      "metadata": {
        "id": "JaC2H2KdXPBM"
      },
      "execution_count": 87,
      "outputs": []
    },
    {
      "cell_type": "code",
      "source": [
        "dfp_subsampled = df[0:5000]"
      ],
      "metadata": {
        "id": "7zLEvqqFYwC6"
      },
      "execution_count": 88,
      "outputs": []
    },
    {
      "cell_type": "code",
      "source": [
        "dfp_subsampled.head(2)"
      ],
      "metadata": {
        "colab": {
          "base_uri": "https://localhost:8080/",
          "height": 271
        },
        "id": "17Jh0Q58Y5lk",
        "outputId": "14967c23-9814-4403-a7e4-83e7dc662cc8"
      },
      "execution_count": 90,
      "outputs": [
        {
          "output_type": "execute_result",
          "data": {
            "text/html": [
              "<div>\n",
              "<style scoped>\n",
              "    .dataframe tbody tr th:only-of-type {\n",
              "        vertical-align: middle;\n",
              "    }\n",
              "\n",
              "    .dataframe tbody tr th {\n",
              "        vertical-align: top;\n",
              "    }\n",
              "\n",
              "    .dataframe thead th {\n",
              "        text-align: right;\n",
              "    }\n",
              "</style>\n",
              "<table border=\"1\" class=\"dataframe\">\n",
              "  <thead>\n",
              "    <tr style=\"text-align: right;\">\n",
              "      <th></th>\n",
              "      <th>id</th>\n",
              "      <th>qid1</th>\n",
              "      <th>qid2</th>\n",
              "      <th>question1</th>\n",
              "      <th>question2</th>\n",
              "      <th>is_duplicate</th>\n",
              "      <th>cwc_min</th>\n",
              "      <th>cwc_max</th>\n",
              "      <th>csc_min</th>\n",
              "      <th>csc_max</th>\n",
              "      <th>ctc_min</th>\n",
              "      <th>ctc_max</th>\n",
              "      <th>last_word_eq</th>\n",
              "      <th>first_word_eq</th>\n",
              "      <th>abs_len_diff</th>\n",
              "      <th>mean_len</th>\n",
              "      <th>token_set_ratio</th>\n",
              "      <th>token_sort_ratio</th>\n",
              "      <th>fuzz_ratio</th>\n",
              "      <th>fuzz_partial_ratio</th>\n",
              "      <th>longest_substr_ratio</th>\n",
              "    </tr>\n",
              "  </thead>\n",
              "  <tbody>\n",
              "    <tr>\n",
              "      <th>0</th>\n",
              "      <td>0</td>\n",
              "      <td>1</td>\n",
              "      <td>2</td>\n",
              "      <td>what is the step by step guide to invest in sh...</td>\n",
              "      <td>what is the step by step guide to invest in sh...</td>\n",
              "      <td>0</td>\n",
              "      <td>0.999980</td>\n",
              "      <td>0.833319</td>\n",
              "      <td>0.999983</td>\n",
              "      <td>0.999983</td>\n",
              "      <td>0.916659</td>\n",
              "      <td>0.785709</td>\n",
              "      <td>0.0</td>\n",
              "      <td>1.0</td>\n",
              "      <td>2.0</td>\n",
              "      <td>13.0</td>\n",
              "      <td>100</td>\n",
              "      <td>93</td>\n",
              "      <td>93</td>\n",
              "      <td>100</td>\n",
              "      <td>0.982759</td>\n",
              "    </tr>\n",
              "    <tr>\n",
              "      <th>1</th>\n",
              "      <td>1</td>\n",
              "      <td>3</td>\n",
              "      <td>4</td>\n",
              "      <td>what is the story of kohinoor  koh i noor  dia...</td>\n",
              "      <td>what would happen if the indian government sto...</td>\n",
              "      <td>0</td>\n",
              "      <td>0.799984</td>\n",
              "      <td>0.399996</td>\n",
              "      <td>0.749981</td>\n",
              "      <td>0.599988</td>\n",
              "      <td>0.699993</td>\n",
              "      <td>0.466664</td>\n",
              "      <td>0.0</td>\n",
              "      <td>1.0</td>\n",
              "      <td>5.0</td>\n",
              "      <td>12.5</td>\n",
              "      <td>86</td>\n",
              "      <td>63</td>\n",
              "      <td>66</td>\n",
              "      <td>75</td>\n",
              "      <td>0.596154</td>\n",
              "    </tr>\n",
              "  </tbody>\n",
              "</table>\n",
              "</div>"
            ],
            "text/plain": [
              "   id  qid1  qid2  ... fuzz_ratio fuzz_partial_ratio  longest_substr_ratio\n",
              "0   0     1     2  ...         93                100              0.982759\n",
              "1   1     3     4  ...         66                 75              0.596154\n",
              "\n",
              "[2 rows x 21 columns]"
            ]
          },
          "metadata": {},
          "execution_count": 90
        }
      ]
    },
    {
      "cell_type": "code",
      "source": [
        "X = MinMaxScaler().fit_transform(dfp_subsampled[['cwc_min', 'cwc_max', 'csc_min', 'csc_max' , 'ctc_min' , 'ctc_max' , 'last_word_eq', 'first_word_eq' , 'abs_len_diff' , 'mean_len' , 'token_set_ratio' , 'token_sort_ratio' ,  'fuzz_ratio' , 'fuzz_partial_ratio' , 'longest_substr_ratio']])\n",
        "y = dfp_subsampled['is_duplicate'].values"
      ],
      "metadata": {
        "id": "QeQlV9m9ZBmH"
      },
      "execution_count": 93,
      "outputs": []
    },
    {
      "cell_type": "code",
      "source": [
        "from sklearn.manifold import TSNE\n",
        "tsne2d = TSNE(\n",
        "    n_components=2,\n",
        "    init='random', # pca\n",
        "    random_state=101,\n",
        "    method='barnes_hut',\n",
        "    n_iter=1000,\n",
        "    verbose=2,\n",
        "    angle=0.5,perplexity=40\n",
        ").fit_transform(X)"
      ],
      "metadata": {
        "colab": {
          "base_uri": "https://localhost:8080/"
        },
        "id": "MUoWwySPZM1r",
        "outputId": "52075cc8-f67c-4952-aa98-ab0ce01a7f83"
      },
      "execution_count": 100,
      "outputs": [
        {
          "output_type": "stream",
          "name": "stdout",
          "text": [
            "[t-SNE] Computing 121 nearest neighbors...\n",
            "[t-SNE] Indexed 5000 samples in 0.011s...\n",
            "[t-SNE] Computed neighbors for 5000 samples in 0.409s...\n",
            "[t-SNE] Computed conditional probabilities for sample 1000 / 5000\n",
            "[t-SNE] Computed conditional probabilities for sample 2000 / 5000\n",
            "[t-SNE] Computed conditional probabilities for sample 3000 / 5000\n",
            "[t-SNE] Computed conditional probabilities for sample 4000 / 5000\n",
            "[t-SNE] Computed conditional probabilities for sample 5000 / 5000\n",
            "[t-SNE] Mean sigma: 0.128135\n",
            "[t-SNE] Computed conditional probabilities in 0.344s\n",
            "[t-SNE] Iteration 50: error = 77.5577240, gradient norm = 0.0369418 (50 iterations in 2.651s)\n",
            "[t-SNE] Iteration 100: error = 67.6363449, gradient norm = 0.0082202 (50 iterations in 1.954s)\n",
            "[t-SNE] Iteration 150: error = 66.0817184, gradient norm = 0.0061441 (50 iterations in 1.896s)\n",
            "[t-SNE] Iteration 200: error = 65.3914795, gradient norm = 0.0043795 (50 iterations in 1.843s)\n",
            "[t-SNE] Iteration 250: error = 64.9695129, gradient norm = 0.0037996 (50 iterations in 1.895s)\n",
            "[t-SNE] KL divergence after 250 iterations with early exaggeration: 64.969513\n",
            "[t-SNE] Iteration 300: error = 1.6049355, gradient norm = 0.0011561 (50 iterations in 2.025s)\n",
            "[t-SNE] Iteration 350: error = 1.2450573, gradient norm = 0.0004552 (50 iterations in 1.926s)\n",
            "[t-SNE] Iteration 400: error = 1.0995054, gradient norm = 0.0002594 (50 iterations in 1.987s)\n",
            "[t-SNE] Iteration 450: error = 1.0223597, gradient norm = 0.0001747 (50 iterations in 1.963s)\n",
            "[t-SNE] Iteration 500: error = 0.9756703, gradient norm = 0.0001304 (50 iterations in 1.977s)\n",
            "[t-SNE] Iteration 550: error = 0.9451166, gradient norm = 0.0001084 (50 iterations in 1.957s)\n",
            "[t-SNE] Iteration 600: error = 0.9253213, gradient norm = 0.0000944 (50 iterations in 1.953s)\n",
            "[t-SNE] Iteration 650: error = 0.9126278, gradient norm = 0.0000831 (50 iterations in 1.991s)\n",
            "[t-SNE] Iteration 700: error = 0.9040786, gradient norm = 0.0000785 (50 iterations in 2.023s)\n",
            "[t-SNE] Iteration 750: error = 0.8978300, gradient norm = 0.0000705 (50 iterations in 1.995s)\n",
            "[t-SNE] Iteration 800: error = 0.8927577, gradient norm = 0.0000690 (50 iterations in 1.998s)\n",
            "[t-SNE] Iteration 850: error = 0.8886323, gradient norm = 0.0000653 (50 iterations in 1.986s)\n",
            "[t-SNE] Iteration 900: error = 0.8851489, gradient norm = 0.0000607 (50 iterations in 1.967s)\n",
            "[t-SNE] Iteration 950: error = 0.8817304, gradient norm = 0.0000610 (50 iterations in 1.992s)\n",
            "[t-SNE] Iteration 1000: error = 0.8788468, gradient norm = 0.0000567 (50 iterations in 1.957s)\n",
            "[t-SNE] KL divergence after 1000 iterations: 0.878847\n"
          ]
        }
      ]
    },
    {
      "cell_type": "code",
      "source": [
        "df = pd.DataFrame({'x':tsne2d[:,0], 'y':tsne2d[:,1] ,'label':y})\n",
        "df.head(5)"
      ],
      "metadata": {
        "colab": {
          "base_uri": "https://localhost:8080/",
          "height": 206
        },
        "id": "IM2FCTc7aL1g",
        "outputId": "00e0fe98-b694-4ce3-ab0c-3f5783fe303a"
      },
      "execution_count": 101,
      "outputs": [
        {
          "output_type": "execute_result",
          "data": {
            "text/html": [
              "<div>\n",
              "<style scoped>\n",
              "    .dataframe tbody tr th:only-of-type {\n",
              "        vertical-align: middle;\n",
              "    }\n",
              "\n",
              "    .dataframe tbody tr th {\n",
              "        vertical-align: top;\n",
              "    }\n",
              "\n",
              "    .dataframe thead th {\n",
              "        text-align: right;\n",
              "    }\n",
              "</style>\n",
              "<table border=\"1\" class=\"dataframe\">\n",
              "  <thead>\n",
              "    <tr style=\"text-align: right;\">\n",
              "      <th></th>\n",
              "      <th>x</th>\n",
              "      <th>y</th>\n",
              "      <th>label</th>\n",
              "    </tr>\n",
              "  </thead>\n",
              "  <tbody>\n",
              "    <tr>\n",
              "      <th>0</th>\n",
              "      <td>-23.260717</td>\n",
              "      <td>-53.567318</td>\n",
              "      <td>0</td>\n",
              "    </tr>\n",
              "    <tr>\n",
              "      <th>1</th>\n",
              "      <td>-18.847498</td>\n",
              "      <td>-20.927601</td>\n",
              "      <td>0</td>\n",
              "    </tr>\n",
              "    <tr>\n",
              "      <th>2</th>\n",
              "      <td>-5.786746</td>\n",
              "      <td>2.816498</td>\n",
              "      <td>0</td>\n",
              "    </tr>\n",
              "    <tr>\n",
              "      <th>3</th>\n",
              "      <td>90.341034</td>\n",
              "      <td>1.054024</td>\n",
              "      <td>0</td>\n",
              "    </tr>\n",
              "    <tr>\n",
              "      <th>4</th>\n",
              "      <td>-21.901217</td>\n",
              "      <td>3.008955</td>\n",
              "      <td>0</td>\n",
              "    </tr>\n",
              "  </tbody>\n",
              "</table>\n",
              "</div>"
            ],
            "text/plain": [
              "           x          y  label\n",
              "0 -23.260717 -53.567318      0\n",
              "1 -18.847498 -20.927601      0\n",
              "2  -5.786746   2.816498      0\n",
              "3  90.341034   1.054024      0\n",
              "4 -21.901217   3.008955      0"
            ]
          },
          "metadata": {},
          "execution_count": 101
        }
      ]
    },
    {
      "cell_type": "code",
      "source": [
        "import seaborn as sns\n",
        "\n",
        "sns.lmplot(data=df, x='x', y='y', hue='label', fit_reg=False, size=8,palette=\"Set1\",markers=['s','o'])\n",
        "plt.title(\"perplexity : {} and max_iter : {}\".format(30, 1000))\n",
        "plt.show()"
      ],
      "metadata": {
        "colab": {
          "base_uri": "https://localhost:8080/",
          "height": 601
        },
        "id": "4Om69l99aXNF",
        "outputId": "1ebdb65c-b2d8-4e5d-db97-4e52ba6f7c75"
      },
      "execution_count": 102,
      "outputs": [
        {
          "output_type": "display_data",
          "data": {
            "image/png": "[encoded data removed]",
            "text/plain": [
              "<Figure size 618.375x576 with 1 Axes>"
            ]
          },
          "metadata": {
            "needs_background": "light"
          }
        }
      ]
    }
  ]
}